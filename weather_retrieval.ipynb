{
 "cells": [
  {
   "cell_type": "code",
   "execution_count": 1,
   "metadata": {},
   "outputs": [],
   "source": [
    "from pprint import pprint\n",
    "import openweathermapy.core as owm\n",
    "from config import api_key"
   ]
  },
  {
   "cell_type": "code",
   "execution_count": 2,
   "metadata": {},
   "outputs": [],
   "source": [
    "zip = 27215"
   ]
  },
  {
   "cell_type": "code",
   "execution_count": 3,
   "metadata": {},
   "outputs": [],
   "source": [
    "def get_weather():\n",
    "    settings = {\"units\": \"imperial\", \"appid\": api_key}\n",
    "    zip_weather = owm.get_current(zip = zip, **settings)\n",
    "    pprint(zip_weather)"
   ]
  },
  {
   "cell_type": "code",
   "execution_count": 4,
   "metadata": {},
   "outputs": [
    {
     "name": "stdout",
     "output_type": "stream",
     "text": [
      "{'base': 'stations',\n",
      " 'clouds': {'all': 90},\n",
      " 'cod': 200,\n",
      " 'coord': {'lat': 36.04, 'lon': -79.49},\n",
      " 'dt': 1550794200,\n",
      " 'id': 420022403,\n",
      " 'main': {'humidity': 82,\n",
      "          'pressure': 1019,\n",
      "          'temp': 55.04,\n",
      "          'temp_max': 60.8,\n",
      "          'temp_min': 51.8},\n",
      " 'name': 'Burlington',\n",
      " 'sys': {'country': 'US',\n",
      "         'id': 3521,\n",
      "         'message': 0.0042,\n",
      "         'sunrise': 1550836639,\n",
      "         'sunset': 1550876764,\n",
      "         'type': 1},\n",
      " 'visibility': 16093,\n",
      " 'weather': [{'description': 'overcast clouds',\n",
      "              'icon': '04n',\n",
      "              'id': 804,\n",
      "              'main': 'Clouds'}],\n",
      " 'wind': {'deg': 343.5, 'speed': 2.59}}\n"
     ]
    }
   ],
   "source": [
    "get_weather()"
   ]
  },
  {
   "cell_type": "code",
   "execution_count": null,
   "metadata": {},
   "outputs": [],
   "source": []
  }
 ],
 "metadata": {
  "kernelspec": {
   "display_name": "Python 3",
   "language": "python",
   "name": "python3"
  },
  "language_info": {
   "codemirror_mode": {
    "name": "ipython",
    "version": 3
   },
   "file_extension": ".py",
   "mimetype": "text/x-python",
   "name": "python",
   "nbconvert_exporter": "python",
   "pygments_lexer": "ipython3",
   "version": "3.6.6"
  }
 },
 "nbformat": 4,
 "nbformat_minor": 2
}
