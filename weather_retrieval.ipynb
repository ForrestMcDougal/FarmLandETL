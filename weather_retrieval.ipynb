{
 "cells": [
  {
   "cell_type": "code",
   "execution_count": 26,
   "metadata": {},
   "outputs": [],
   "source": [
    "import pandas as pd\n",
    "import requests\n",
    "import json \n",
    "from pprint import pprint\n",
    "import openweathermapy.core as owm\n",
    "from config import api_key\n",
    "from urllib.error import HTTPError"
   ]
  },
  {
   "cell_type": "code",
   "execution_count": 5,
   "metadata": {},
   "outputs": [
    {
     "name": "stdout",
     "output_type": "stream",
     "text": [
      "{'base': 'stations',\n",
      " 'clouds': {'all': 1},\n",
      " 'cod': 200,\n",
      " 'coord': {'lat': 38.26, 'lon': -85.72},\n",
      " 'dt': 1550777700,\n",
      " 'id': 420011544,\n",
      " 'main': {'humidity': 64,\n",
      "          'pressure': 1024,\n",
      "          'temp': 45.5,\n",
      "          'temp_max': 46.4,\n",
      "          'temp_min': 44.6},\n",
      " 'name': 'Louisville',\n",
      " 'sys': {'country': 'US',\n",
      "         'id': 4519,\n",
      "         'message': 0.0039,\n",
      "         'sunrise': 1550751892,\n",
      "         'sunset': 1550791706,\n",
      "         'type': 1},\n",
      " 'visibility': 16093,\n",
      " 'weather': [{'description': 'clear sky',\n",
      "              'icon': '01d',\n",
      "              'id': 800,\n",
      "              'main': 'Clear'}],\n",
      " 'wind': {'deg': 270, 'speed': 3.36}}\n"
     ]
    }
   ],
   "source": [
    "settings = {\"units\": \"imperial\", \"appid\": '4f71f9640cc5537c6b7d0589778e430c'}\n",
    "zip_weather = owm. get_current(zip = 40206, **settings)\n",
    "pprint(zip_weather)"
   ]
  },
  {
   "cell_type": "code",
   "execution_count": 19,
   "metadata": {},
   "outputs": [],
   "source": [
    "weather_df = pd.DataFrame(columns=['Zip', 'City', 'Latitude', 'Longitude',  'Temperature', 'Wind Speed', 'Humidity'])\n",
    "\n",
    "zips = [82301, 52333, 28608]"
   ]
  },
  {
   "cell_type": "code",
   "execution_count": 23,
   "metadata": {},
   "outputs": [],
   "source": [
    "def get_weather(zips):\n",
    "#     weather_df = pd.DataFrame(columns=['Zip', 'City', 'Latitude', 'Longitude',  'Temperature', 'Wind Speed', 'Humidity'])\n",
    "    for zip in zips:\n",
    "#         for row in weather_df.iterrows():\n",
    "            zip_weather = owm.get_current(zip = zip, **settings)\n",
    "            weather_df.loc['Zip'] = zip\n",
    "            weather_df.loc['City'] = zip_weather['name']\n",
    "            weather_df.loc['Latitude'] = zip_weather['coord']['lat']\n",
    "            weather_df.loc['Longitude'] = zip_weather['coord']['lon']\n",
    "            weather_df.loc['Temperature'] = zip_weather['main']['temp']\n",
    "            weather_df.loc['Wind Speed'] = zip_weather['wind']['speed']\n",
    "            weather_df.loc['Humidity'] = zip_weather['main']['humidity']\n",
    "              "
   ]
  },
  {
   "cell_type": "code",
   "execution_count": 24,
   "metadata": {},
   "outputs": [],
   "source": [
    "get_weather(zips)\n"
   ]
  },
  {
   "cell_type": "code",
   "execution_count": 25,
   "metadata": {},
   "outputs": [
    {
     "data": {
      "text/html": [
       "<div>\n",
       "<style scoped>\n",
       "    .dataframe tbody tr th:only-of-type {\n",
       "        vertical-align: middle;\n",
       "    }\n",
       "\n",
       "    .dataframe tbody tr th {\n",
       "        vertical-align: top;\n",
       "    }\n",
       "\n",
       "    .dataframe thead th {\n",
       "        text-align: right;\n",
       "    }\n",
       "</style>\n",
       "<table border=\"1\" class=\"dataframe\">\n",
       "  <thead>\n",
       "    <tr style=\"text-align: right;\">\n",
       "      <th></th>\n",
       "      <th>Zip</th>\n",
       "      <th>City</th>\n",
       "      <th>Latitude</th>\n",
       "      <th>Longitude</th>\n",
       "      <th>Temperature</th>\n",
       "      <th>Wind Speed</th>\n",
       "      <th>Humidity</th>\n",
       "    </tr>\n",
       "  </thead>\n",
       "  <tbody>\n",
       "    <tr>\n",
       "      <th>Zip</th>\n",
       "      <td>28608</td>\n",
       "      <td>28608</td>\n",
       "      <td>28608</td>\n",
       "      <td>28608</td>\n",
       "      <td>28608</td>\n",
       "      <td>28608</td>\n",
       "      <td>28608</td>\n",
       "    </tr>\n",
       "    <tr>\n",
       "      <th>City</th>\n",
       "      <td>Johnson City</td>\n",
       "      <td>Johnson City</td>\n",
       "      <td>Johnson City</td>\n",
       "      <td>Johnson City</td>\n",
       "      <td>Johnson City</td>\n",
       "      <td>Johnson City</td>\n",
       "      <td>Johnson City</td>\n",
       "    </tr>\n",
       "    <tr>\n",
       "      <th>Latitude</th>\n",
       "      <td>36.22</td>\n",
       "      <td>36.22</td>\n",
       "      <td>36.22</td>\n",
       "      <td>36.22</td>\n",
       "      <td>36.22</td>\n",
       "      <td>36.22</td>\n",
       "      <td>36.22</td>\n",
       "    </tr>\n",
       "    <tr>\n",
       "      <th>Longitude</th>\n",
       "      <td>-81.67</td>\n",
       "      <td>-81.67</td>\n",
       "      <td>-81.67</td>\n",
       "      <td>-81.67</td>\n",
       "      <td>-81.67</td>\n",
       "      <td>-81.67</td>\n",
       "      <td>-81.67</td>\n",
       "    </tr>\n",
       "    <tr>\n",
       "      <th>Temperature</th>\n",
       "      <td>53.85</td>\n",
       "      <td>53.85</td>\n",
       "      <td>53.85</td>\n",
       "      <td>53.85</td>\n",
       "      <td>53.85</td>\n",
       "      <td>53.85</td>\n",
       "      <td>53.85</td>\n",
       "    </tr>\n",
       "    <tr>\n",
       "      <th>Wind Speed</th>\n",
       "      <td>11.41</td>\n",
       "      <td>11.41</td>\n",
       "      <td>11.41</td>\n",
       "      <td>11.41</td>\n",
       "      <td>11.41</td>\n",
       "      <td>11.41</td>\n",
       "      <td>11.41</td>\n",
       "    </tr>\n",
       "    <tr>\n",
       "      <th>Humidity</th>\n",
       "      <td>82</td>\n",
       "      <td>82</td>\n",
       "      <td>82</td>\n",
       "      <td>82</td>\n",
       "      <td>82</td>\n",
       "      <td>82</td>\n",
       "      <td>82</td>\n",
       "    </tr>\n",
       "  </tbody>\n",
       "</table>\n",
       "</div>"
      ],
      "text/plain": [
       "                      Zip          City      Latitude     Longitude  \\\n",
       "Zip                 28608         28608         28608         28608   \n",
       "City         Johnson City  Johnson City  Johnson City  Johnson City   \n",
       "Latitude            36.22         36.22         36.22         36.22   \n",
       "Longitude          -81.67        -81.67        -81.67        -81.67   \n",
       "Temperature         53.85         53.85         53.85         53.85   \n",
       "Wind Speed          11.41         11.41         11.41         11.41   \n",
       "Humidity               82            82            82            82   \n",
       "\n",
       "              Temperature    Wind Speed      Humidity  \n",
       "Zip                 28608         28608         28608  \n",
       "City         Johnson City  Johnson City  Johnson City  \n",
       "Latitude            36.22         36.22         36.22  \n",
       "Longitude          -81.67        -81.67        -81.67  \n",
       "Temperature         53.85         53.85         53.85  \n",
       "Wind Speed          11.41         11.41         11.41  \n",
       "Humidity               82            82            82  "
      ]
     },
     "execution_count": 25,
     "metadata": {},
     "output_type": "execute_result"
    }
   ],
   "source": [
    "weather_df"
   ]
  },
  {
   "cell_type": "code",
   "execution_count": null,
   "metadata": {},
   "outputs": [],
   "source": []
  }
 ],
 "metadata": {
  "kernelspec": {
   "display_name": "Python 3",
   "language": "python",
   "name": "python3"
  },
  "language_info": {
   "codemirror_mode": {
    "name": "ipython",
    "version": 3
   },
   "file_extension": ".py",
   "mimetype": "text/x-python",
   "name": "python",
   "nbconvert_exporter": "python",
   "pygments_lexer": "ipython3",
   "version": "3.6.6"
  }
 },
 "nbformat": 4,
 "nbformat_minor": 2
}
